{
  "nbformat": 4,
  "nbformat_minor": 0,
  "metadata": {
    "colab": {
      "provenance": [],
      "authorship_tag": "ABX9TyM8WZqkn9R5fyQF4rGgjher",
      "include_colab_link": true
    },
    "kernelspec": {
      "name": "python3",
      "display_name": "Python 3"
    },
    "language_info": {
      "name": "python"
    }
  },
  "cells": [
    {
      "cell_type": "markdown",
      "metadata": {
        "id": "view-in-github",
        "colab_type": "text"
      },
      "source": [
        "<a href=\"https://colab.research.google.com/github/ggggatvi/test-colab/blob/main/template.ipynb\" target=\"_parent\"><img src=\"https://colab.research.google.com/assets/colab-badge.svg\" alt=\"Open In Colab\"/></a>"
      ]
    },
    {
      "cell_type": "code",
      "execution_count": null,
      "metadata": {
        "colab": {
          "base_uri": "https://localhost:8080/"
        },
        "id": "YnjULZROvBiX",
        "outputId": "cf7be523-059a-4866-dd39-be6f1d52f647"
      },
      "outputs": [
        {
          "output_type": "stream",
          "name": "stdout",
          "text": [
            "3.10.6\n"
          ]
        }
      ],
      "source": [
        "#0 Print the Python version to the console. Use the built-in sys module.\n",
        "import sys\n",
        "# Expected result: 3.8.10\n",
        "print(sys.version.split()[0])"
      ]
    },
    {
      "cell_type": "code",
      "source": [
        "# Google Driveに接続\n",
        "from google.colab import drive\n",
        "drive.mount('/content/drive', force_remount=True)"
      ],
      "metadata": {
        "id": "WQpkq1lyxfbF",
        "outputId": "48e9f9be-c97b-4014-c217-12ca7e3500c0",
        "colab": {
          "base_uri": "https://localhost:8080/"
        }
      },
      "execution_count": 2,
      "outputs": [
        {
          "output_type": "stream",
          "name": "stdout",
          "text": [
            "Mounted at /content/drive\n"
          ]
        }
      ]
    },
    {
      "cell_type": "code",
      "source": [
        "cd ./drive/MyDrive/Colaboratory/DL2022/0_test"
      ],
      "metadata": {
        "id": "p5l_45Blxtgs",
        "outputId": "07ce5c21-4efb-4768-c76e-78385275cce0",
        "colab": {
          "base_uri": "https://localhost:8080/"
        }
      },
      "execution_count": 3,
      "outputs": [
        {
          "output_type": "stream",
          "name": "stdout",
          "text": [
            "/content/drive/MyDrive/Colaboratory/DL2022/0_test\n"
          ]
        }
      ]
    },
    {
      "cell_type": "code",
      "source": [],
      "metadata": {
        "id": "vxq9Xhkmxr4G"
      },
      "execution_count": null,
      "outputs": []
    }
  ]
}